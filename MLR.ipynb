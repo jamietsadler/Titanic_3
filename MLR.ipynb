{
 "cells": [
  {
   "cell_type": "code",
   "execution_count": 101,
   "metadata": {},
   "outputs": [],
   "source": [
    "import pandas as pd\n",
    "import numpy as np\n",
    "from sklearn.linear_model import LinearRegression"
   ]
  },
  {
   "cell_type": "code",
   "execution_count": 102,
   "metadata": {},
   "outputs": [],
   "source": [
    "train_df = pd.read_csv('train.csv')\n",
    "test_df = pd.read_csv('test.csv')"
   ]
  },
  {
   "cell_type": "code",
   "execution_count": 103,
   "metadata": {
    "scrolled": true
   },
   "outputs": [
    {
     "name": "stdout",
     "output_type": "stream",
     "text": [
      "   PassengerId  Survived  Pclass  \\\n",
      "0            1         0       3   \n",
      "1            2         1       1   \n",
      "2            3         1       3   \n",
      "3            4         1       1   \n",
      "4            5         0       3   \n",
      "\n",
      "                                                Name     Sex   Age  SibSp  \\\n",
      "0                            Braund, Mr. Owen Harris    male  22.0      1   \n",
      "1  Cumings, Mrs. John Bradley (Florence Briggs Th...  female  38.0      1   \n",
      "2                             Heikkinen, Miss. Laina  female  26.0      0   \n",
      "3       Futrelle, Mrs. Jacques Heath (Lily May Peel)  female  35.0      1   \n",
      "4                           Allen, Mr. William Henry    male  35.0      0   \n",
      "\n",
      "   Parch            Ticket     Fare Cabin Embarked  \n",
      "0      0         A/5 21171   7.2500   NaN        S  \n",
      "1      0          PC 17599  71.2833   C85        C  \n",
      "2      0  STON/O2. 3101282   7.9250   NaN        S  \n",
      "3      0            113803  53.1000  C123        S  \n",
      "4      0            373450   8.0500   NaN        S  \n"
     ]
    }
   ],
   "source": [
    "print(train_df.head())"
   ]
  },
  {
   "cell_type": "code",
   "execution_count": 104,
   "metadata": {},
   "outputs": [],
   "source": [
    "train_df['Sex'] = train_df.Sex.apply(lambda x: 1 if x =='male' else 0)"
   ]
  },
  {
   "cell_type": "code",
   "execution_count": 105,
   "metadata": {},
   "outputs": [
    {
     "name": "stdout",
     "output_type": "stream",
     "text": [
      "   PassengerId  Survived  Pclass  \\\n",
      "0            1         0       3   \n",
      "1            2         1       1   \n",
      "2            3         1       3   \n",
      "3            4         1       1   \n",
      "4            5         0       3   \n",
      "\n",
      "                                                Name  Sex   Age  SibSp  Parch  \\\n",
      "0                            Braund, Mr. Owen Harris    1  22.0      1      0   \n",
      "1  Cumings, Mrs. John Bradley (Florence Briggs Th...    0  38.0      1      0   \n",
      "2                             Heikkinen, Miss. Laina    0  26.0      0      0   \n",
      "3       Futrelle, Mrs. Jacques Heath (Lily May Peel)    0  35.0      1      0   \n",
      "4                           Allen, Mr. William Henry    1  35.0      0      0   \n",
      "\n",
      "             Ticket     Fare Cabin Embarked  \n",
      "0         A/5 21171   7.2500   NaN        S  \n",
      "1          PC 17599  71.2833   C85        C  \n",
      "2  STON/O2. 3101282   7.9250   NaN        S  \n",
      "3            113803  53.1000  C123        S  \n",
      "4            373450   8.0500   NaN        S  \n"
     ]
    }
   ],
   "source": [
    "print(train_df.head())"
   ]
  },
  {
   "cell_type": "code",
   "execution_count": 106,
   "metadata": {
    "scrolled": true
   },
   "outputs": [
    {
     "name": "stdout",
     "output_type": "stream",
     "text": [
      "['S' 'C' 'Q' nan]\n"
     ]
    }
   ],
   "source": [
    "print(train_df.Embarked.unique())"
   ]
  },
  {
   "cell_type": "code",
   "execution_count": 107,
   "metadata": {},
   "outputs": [],
   "source": [
    "train_df['Embarked'].fillna(inplace=True, value='N')"
   ]
  },
  {
   "cell_type": "code",
   "execution_count": 108,
   "metadata": {},
   "outputs": [],
   "source": [
    "train_df['Embarked'] = train_df['Embarked'].map({'S':0, 'C':1, 'Q': 2, 'N':3})"
   ]
  },
  {
   "cell_type": "code",
   "execution_count": 109,
   "metadata": {},
   "outputs": [
    {
     "data": {
      "text/html": [
       "<div>\n",
       "<style scoped>\n",
       "    .dataframe tbody tr th:only-of-type {\n",
       "        vertical-align: middle;\n",
       "    }\n",
       "\n",
       "    .dataframe tbody tr th {\n",
       "        vertical-align: top;\n",
       "    }\n",
       "\n",
       "    .dataframe thead th {\n",
       "        text-align: right;\n",
       "    }\n",
       "</style>\n",
       "<table border=\"1\" class=\"dataframe\">\n",
       "  <thead>\n",
       "    <tr style=\"text-align: right;\">\n",
       "      <th></th>\n",
       "      <th>PassengerId</th>\n",
       "      <th>Survived</th>\n",
       "      <th>Pclass</th>\n",
       "      <th>Name</th>\n",
       "      <th>Sex</th>\n",
       "      <th>Age</th>\n",
       "      <th>SibSp</th>\n",
       "      <th>Parch</th>\n",
       "      <th>Ticket</th>\n",
       "      <th>Fare</th>\n",
       "      <th>Cabin</th>\n",
       "      <th>Embarked</th>\n",
       "    </tr>\n",
       "  </thead>\n",
       "  <tbody>\n",
       "    <tr>\n",
       "      <th>0</th>\n",
       "      <td>1</td>\n",
       "      <td>0</td>\n",
       "      <td>3</td>\n",
       "      <td>Braund, Mr. Owen Harris</td>\n",
       "      <td>1</td>\n",
       "      <td>22.0</td>\n",
       "      <td>1</td>\n",
       "      <td>0</td>\n",
       "      <td>A/5 21171</td>\n",
       "      <td>7.2500</td>\n",
       "      <td>NaN</td>\n",
       "      <td>0</td>\n",
       "    </tr>\n",
       "    <tr>\n",
       "      <th>1</th>\n",
       "      <td>2</td>\n",
       "      <td>1</td>\n",
       "      <td>1</td>\n",
       "      <td>Cumings, Mrs. John Bradley (Florence Briggs Th...</td>\n",
       "      <td>0</td>\n",
       "      <td>38.0</td>\n",
       "      <td>1</td>\n",
       "      <td>0</td>\n",
       "      <td>PC 17599</td>\n",
       "      <td>71.2833</td>\n",
       "      <td>C85</td>\n",
       "      <td>1</td>\n",
       "    </tr>\n",
       "    <tr>\n",
       "      <th>2</th>\n",
       "      <td>3</td>\n",
       "      <td>1</td>\n",
       "      <td>3</td>\n",
       "      <td>Heikkinen, Miss. Laina</td>\n",
       "      <td>0</td>\n",
       "      <td>26.0</td>\n",
       "      <td>0</td>\n",
       "      <td>0</td>\n",
       "      <td>STON/O2. 3101282</td>\n",
       "      <td>7.9250</td>\n",
       "      <td>NaN</td>\n",
       "      <td>0</td>\n",
       "    </tr>\n",
       "    <tr>\n",
       "      <th>3</th>\n",
       "      <td>4</td>\n",
       "      <td>1</td>\n",
       "      <td>1</td>\n",
       "      <td>Futrelle, Mrs. Jacques Heath (Lily May Peel)</td>\n",
       "      <td>0</td>\n",
       "      <td>35.0</td>\n",
       "      <td>1</td>\n",
       "      <td>0</td>\n",
       "      <td>113803</td>\n",
       "      <td>53.1000</td>\n",
       "      <td>C123</td>\n",
       "      <td>0</td>\n",
       "    </tr>\n",
       "    <tr>\n",
       "      <th>4</th>\n",
       "      <td>5</td>\n",
       "      <td>0</td>\n",
       "      <td>3</td>\n",
       "      <td>Allen, Mr. William Henry</td>\n",
       "      <td>1</td>\n",
       "      <td>35.0</td>\n",
       "      <td>0</td>\n",
       "      <td>0</td>\n",
       "      <td>373450</td>\n",
       "      <td>8.0500</td>\n",
       "      <td>NaN</td>\n",
       "      <td>0</td>\n",
       "    </tr>\n",
       "  </tbody>\n",
       "</table>\n",
       "</div>"
      ],
      "text/plain": [
       "   PassengerId  Survived  Pclass  \\\n",
       "0            1         0       3   \n",
       "1            2         1       1   \n",
       "2            3         1       3   \n",
       "3            4         1       1   \n",
       "4            5         0       3   \n",
       "\n",
       "                                                Name  Sex   Age  SibSp  Parch  \\\n",
       "0                            Braund, Mr. Owen Harris    1  22.0      1      0   \n",
       "1  Cumings, Mrs. John Bradley (Florence Briggs Th...    0  38.0      1      0   \n",
       "2                             Heikkinen, Miss. Laina    0  26.0      0      0   \n",
       "3       Futrelle, Mrs. Jacques Heath (Lily May Peel)    0  35.0      1      0   \n",
       "4                           Allen, Mr. William Henry    1  35.0      0      0   \n",
       "\n",
       "             Ticket     Fare Cabin  Embarked  \n",
       "0         A/5 21171   7.2500   NaN         0  \n",
       "1          PC 17599  71.2833   C85         1  \n",
       "2  STON/O2. 3101282   7.9250   NaN         0  \n",
       "3            113803  53.1000  C123         0  \n",
       "4            373450   8.0500   NaN         0  "
      ]
     },
     "execution_count": 109,
     "metadata": {},
     "output_type": "execute_result"
    }
   ],
   "source": [
    "train_df.head()"
   ]
  },
  {
   "cell_type": "code",
   "execution_count": 110,
   "metadata": {},
   "outputs": [
    {
     "data": {
      "text/plain": [
       "array([0, 1, 2, 3], dtype=int64)"
      ]
     },
     "execution_count": 110,
     "metadata": {},
     "output_type": "execute_result"
    }
   ],
   "source": [
    "train_df.Embarked.unique()"
   ]
  },
  {
   "cell_type": "code",
   "execution_count": 111,
   "metadata": {},
   "outputs": [
    {
     "data": {
      "text/plain": [
       "Index(['PassengerId', 'Survived', 'Pclass', 'Name', 'Sex', 'Age', 'SibSp',\n",
       "       'Parch', 'Ticket', 'Fare', 'Cabin', 'Embarked'],\n",
       "      dtype='object')"
      ]
     },
     "execution_count": 111,
     "metadata": {},
     "output_type": "execute_result"
    }
   ],
   "source": [
    "train_df.columns"
   ]
  },
  {
   "cell_type": "code",
   "execution_count": 112,
   "metadata": {},
   "outputs": [],
   "source": [
    "train_df.Fare.fillna(inplace=True, value=round(train_df.Fare.mean()))"
   ]
  },
  {
   "cell_type": "code",
   "execution_count": 113,
   "metadata": {},
   "outputs": [],
   "source": [
    "train_df.Age.fillna(inplace=True, value=round(train_df.Age.mean()))"
   ]
  },
  {
   "cell_type": "code",
   "execution_count": 114,
   "metadata": {},
   "outputs": [],
   "source": [
    "x_train = train_df[['Pclass', 'Sex', 'Age', 'SibSp', 'Fare', 'Embarked']]"
   ]
  },
  {
   "cell_type": "code",
   "execution_count": 115,
   "metadata": {},
   "outputs": [],
   "source": [
    "y_train = train_df['Survived']"
   ]
  },
  {
   "cell_type": "code",
   "execution_count": 116,
   "metadata": {},
   "outputs": [],
   "source": [
    "lm = LinearRegression()"
   ]
  },
  {
   "cell_type": "code",
   "execution_count": 117,
   "metadata": {},
   "outputs": [
    {
     "data": {
      "text/plain": [
       "LinearRegression(copy_X=True, fit_intercept=True, n_jobs=None, normalize=False)"
      ]
     },
     "execution_count": 117,
     "metadata": {},
     "output_type": "execute_result"
    }
   ],
   "source": [
    "lm.fit(x_train, y_train)"
   ]
  },
  {
   "cell_type": "code",
   "execution_count": 118,
   "metadata": {},
   "outputs": [],
   "source": [
    "test_df.Age.fillna(inplace=True, value=round(train_df.Age.mean()))"
   ]
  },
  {
   "cell_type": "code",
   "execution_count": 119,
   "metadata": {},
   "outputs": [],
   "source": [
    "test_df['Embarked'].fillna(inplace=True, value='N')"
   ]
  },
  {
   "cell_type": "code",
   "execution_count": 120,
   "metadata": {},
   "outputs": [],
   "source": [
    "test_df['Embarked'] = test_df['Embarked'].map({'S':0, 'C':1, 'Q': 2, 'N':3})"
   ]
  },
  {
   "cell_type": "code",
   "execution_count": 121,
   "metadata": {},
   "outputs": [],
   "source": [
    "test_df['Sex'] = test_df.Sex.apply(lambda x: 1 if x =='male' else 0)"
   ]
  },
  {
   "cell_type": "code",
   "execution_count": 122,
   "metadata": {},
   "outputs": [],
   "source": [
    "test_df.Fare.fillna(inplace=True, value=round(test_df.Fare.mean()))"
   ]
  },
  {
   "cell_type": "code",
   "execution_count": 123,
   "metadata": {},
   "outputs": [],
   "source": [
    "x_test =test_df[['Pclass', 'Sex', 'Age', 'SibSp', 'Fare', 'Embarked']]"
   ]
  },
  {
   "cell_type": "code",
   "execution_count": 124,
   "metadata": {},
   "outputs": [
    {
     "data": {
      "text/plain": [
       "array([ 0.14830991,  0.43735173,  0.16347857,  0.1034378 ,  0.58617063,\n",
       "        0.18022863,  0.67268617,  0.2460159 ,  0.69866346,  0.0517593 ,\n",
       "        0.08554357,  0.34970859,  0.95287717,  0.02707678,  0.80565374,\n",
       "        0.80001698,  0.32337373,  0.18307446,  0.55550768,  0.53949153,\n",
       "        0.30476337,  0.20805757,  0.94348045,  0.55137081,  0.89915425,\n",
       "       -0.07619564,  1.04354104,  0.17423164,  0.38040895,  0.04268662,\n",
       "        0.10371457,  0.2128548 ,  0.523578  ,  0.54204583,  0.45169482,\n",
       "        0.19781364,  0.58348773,  0.6367113 ,  0.11545609,  0.09876588,\n",
       "        0.07864514,  0.44418165,  0.02068375,  0.76161592,  0.81509876,\n",
       "        0.11502759,  0.4012669 ,  0.17481683,  0.82341682,  0.55025215,\n",
       "        0.44302179,  0.32660901,  0.73202533,  0.88130873,  0.30907188,\n",
       "        0.11600973,  0.0560675 ,  0.11495277,  0.04214395,  1.01552851,\n",
       "        0.16218136,  0.25205932,  0.15624647,  0.71987395,  0.56195285,\n",
       "        0.76379243,  0.74349676,  0.34827522,  0.48348363,  0.78392526,\n",
       "        0.70809032,  0.1386005 ,  0.58934894,  0.49799947,  1.00758247,\n",
       "        0.5244183 ,  0.08558552,  0.70320887,  0.26371371,  0.70809032,\n",
       "        0.22805316,  0.23354186,  0.33202295,  0.08554357,  0.35240315,\n",
       "        0.08635265,  0.69043983,  0.6542303 ,  0.67271904,  0.38586866,\n",
       "        0.58660933,  0.08551071,  0.92106184,  0.08558552,  0.51816455,\n",
       "        0.11499244,  0.63950126,  0.09144673,  0.6423866 ,  0.06789988,\n",
       "        0.87233124,  0.2393045 ,  0.17481683,  0.10909156,  0.66517248,\n",
       "        0.10131408,  0.22789302,  0.17481683,  0.08576577,  0.33150868,\n",
       "        0.24407941,  0.67272698,  0.95276451,  0.74038703,  0.75502492,\n",
       "        0.15709522,  0.12980328,  0.71117061,  0.46671408,  0.72541628,\n",
       "        0.86847795,  0.12918514,  0.92012096,  0.0971583 ,  0.17481683,\n",
       "        0.66231563,  0.13267808,  0.58567265,  0.19297114,  0.12095681,\n",
       "        0.07379509,  0.35377871,  0.58822619,  0.08417159,  0.00890579,\n",
       "        0.12090354,  0.15065078,  0.28729457,  0.62475423, -0.00842863,\n",
       "        0.48380326,  0.95840621,  0.32461426,  0.27904097,  0.37343908,\n",
       "       -0.05449772,  0.45106827,  0.13274724,  0.44418165,  0.22161885,\n",
       "        1.0434079 ,  0.13020003, -0.08661433,  0.54924097,  0.0096267 ,\n",
       "        0.12082078,  1.00109389,  0.62470096,  0.37343908,  0.60862615,\n",
       "        0.6727145 ,  0.22215794,  0.78533281,  0.08529986,  0.19886636,\n",
       "        0.56523899,  0.38923905,  0.0722268 ,  0.98705886,  0.6308977 ,\n",
       "        0.08544949,  0.14770318,  0.08281191,  0.13001868, -0.01264902,\n",
       "        0.8571178 ,  0.82702958,  0.30958167,  0.7333183 ,  0.80170412,\n",
       "        0.26371371,  0.417341  ,  0.97441804,  0.17481683,  1.01891246,\n",
       "        0.20557776,  0.81684936,  0.07095993,  0.23516615,  0.20476157,\n",
       "        0.198038  ,  0.44403202,  0.15077011,  0.17009816,  0.39871367,\n",
       "        0.06784661,  0.65969256,  0.65415549,  0.30430005,  0.58350474,\n",
       "        0.67482753,  0.26222414,  0.39766583,  0.84921578,  0.29250962,\n",
       "        0.48861821,  0.64324297,  0.29840484,  0.96937321,  0.11501964,\n",
       "        0.07773322,  0.08531346,  0.35681136,  0.54266464,  0.35372444,\n",
       "        0.3777785 ,  0.67275419,  0.27701016,  0.87352257,  0.08558552,\n",
       "        0.76087421,  0.13864245,  0.80809748,  0.13857329,  0.85139411,\n",
       "        0.63010191,  0.12678286,  0.67271904,  0.02560382,  0.22834243,\n",
       "        0.37218446,  0.99514079,  0.09258792,  0.17485198,  0.40231981,\n",
       "        0.1444844 ,  0.25601865,  0.18896968,  0.7867268 ,  0.85672588,\n",
       "        0.8396785 ,  0.67781279,  0.38414751,  0.08554131,  0.04414362,\n",
       "        0.34058922,  0.81095415,  0.1526447 ,  0.72541628,  0.58425486,\n",
       "        0.89143001,  0.14450366,  0.49088146,  0.12130369,  0.07124198,\n",
       "        0.08544949,  0.17481683,  0.09737595,  0.82646328,  0.13856763,\n",
       "        0.00417874,  0.13858918,  0.77023177,  0.70994178,  0.30829876,\n",
       "        0.08554357,  0.43695836,  0.08544949,  0.58348773,  0.16238995,\n",
       "        0.40776194,  0.17481683,  0.99467888,  0.62919585,  0.13001753,\n",
       "        0.77847321,  0.27482398,  0.16266671,  0.22025854,  0.31019527,\n",
       "        0.62492087,  0.21394642,  0.67271904,  0.70826972,  0.70623102,\n",
       "        0.04999659,  0.08536787,  0.44907975,  0.13001868,  0.08558552,\n",
       "        0.44773209,  0.67250139,  0.13001868,  0.27800743,  0.05060873,\n",
       "        0.10912443,  0.93937728,  0.04268662,  0.44933726,  0.09142747,\n",
       "        0.07372028,  0.30892676,  0.18925244,  0.12112345,  0.67271904,\n",
       "        0.69601489,  0.43255795,  0.25790261,  0.26938429,  0.45107607,\n",
       "        0.15649473,  0.17717925,  0.08545629,  0.63145254,  0.8690376 ,\n",
       "        0.74935228,  0.31667537,  0.32788091,  0.1032179 ,  0.22464523,\n",
       "        0.10909156,  0.15949475,  0.28729457,  0.42649601,  0.93930094,\n",
       "        0.12657996,  0.78354006,  0.40883885,  0.22751407,  0.31677064,\n",
       "        0.66196358,  0.43663819,  0.13001753,  0.6494525 ,  0.10322921,\n",
       "        0.44403202,  0.25192328,  0.07696175,  0.29822297,  0.13001868,\n",
       "        0.33377612,  0.07366701,  0.05668576,  0.95383731,  0.04170865,\n",
       "        0.66591191,  0.28729457,  0.58075917,  0.29922103,  0.75789722,\n",
       "        0.90832632,  0.29250962,  0.35091615,  0.12022028,  0.71711788,\n",
       "        0.32612773,  0.68664161,  0.08553905,  0.17481683,  0.53989652,\n",
       "       -0.17136024,  0.80254266,  0.75789722,  0.1034378 ,  0.9784451 ,\n",
       "        0.55458797,  0.08635376,  0.63925687,  0.90724941,  0.3144989 ,\n",
       "        0.27073086,  1.01021441,  0.32494928,  0.18118071,  0.77001442,\n",
       "        0.96247158,  0.53955271,  0.31636255,  0.30318119,  0.05678842,\n",
       "        0.17481683,  0.19843284,  0.58524254,  0.60489351,  0.2636797 ,\n",
       "        0.76550284,  0.12088199,  0.10454293,  0.22787376,  0.09371923,\n",
       "        0.50366283,  0.82178038,  0.18912334,  0.16281491, -0.04161224,\n",
       "        0.97629528,  0.21005208,  0.84931894,  0.13267242,  0.16891707,\n",
       "        0.97971484,  0.17309682,  1.04283934,  0.52641035,  0.36688717,\n",
       "        0.36755697,  0.25866836,  0.37562036,  0.67271109,  0.69858439,\n",
       "        0.67271904,  0.96176105,  0.59520334,  0.08558552,  0.95608786,\n",
       "        0.03525855,  0.08558552,  0.08850307])"
      ]
     },
     "execution_count": 124,
     "metadata": {},
     "output_type": "execute_result"
    }
   ],
   "source": [
    "lm.predict(x_test)"
   ]
  },
  {
   "cell_type": "code",
   "execution_count": 125,
   "metadata": {},
   "outputs": [
    {
     "data": {
      "text/plain": [
       "418"
      ]
     },
     "execution_count": 125,
     "metadata": {},
     "output_type": "execute_result"
    }
   ],
   "source": [
    "len(x_test)"
   ]
  },
  {
   "cell_type": "code",
   "execution_count": 126,
   "metadata": {},
   "outputs": [
    {
     "data": {
      "text/html": [
       "<div>\n",
       "<style scoped>\n",
       "    .dataframe tbody tr th:only-of-type {\n",
       "        vertical-align: middle;\n",
       "    }\n",
       "\n",
       "    .dataframe tbody tr th {\n",
       "        vertical-align: top;\n",
       "    }\n",
       "\n",
       "    .dataframe thead th {\n",
       "        text-align: right;\n",
       "    }\n",
       "</style>\n",
       "<table border=\"1\" class=\"dataframe\">\n",
       "  <thead>\n",
       "    <tr style=\"text-align: right;\">\n",
       "      <th></th>\n",
       "      <th>PassengerId</th>\n",
       "      <th>Pclass</th>\n",
       "      <th>Name</th>\n",
       "      <th>Sex</th>\n",
       "      <th>Age</th>\n",
       "      <th>SibSp</th>\n",
       "      <th>Parch</th>\n",
       "      <th>Ticket</th>\n",
       "      <th>Fare</th>\n",
       "      <th>Cabin</th>\n",
       "      <th>Embarked</th>\n",
       "    </tr>\n",
       "  </thead>\n",
       "  <tbody>\n",
       "    <tr>\n",
       "      <th>0</th>\n",
       "      <td>892</td>\n",
       "      <td>3</td>\n",
       "      <td>Kelly, Mr. James</td>\n",
       "      <td>1</td>\n",
       "      <td>34.5</td>\n",
       "      <td>0</td>\n",
       "      <td>0</td>\n",
       "      <td>330911</td>\n",
       "      <td>7.8292</td>\n",
       "      <td>NaN</td>\n",
       "      <td>2</td>\n",
       "    </tr>\n",
       "    <tr>\n",
       "      <th>1</th>\n",
       "      <td>893</td>\n",
       "      <td>3</td>\n",
       "      <td>Wilkes, Mrs. James (Ellen Needs)</td>\n",
       "      <td>0</td>\n",
       "      <td>47.0</td>\n",
       "      <td>1</td>\n",
       "      <td>0</td>\n",
       "      <td>363272</td>\n",
       "      <td>7.0000</td>\n",
       "      <td>NaN</td>\n",
       "      <td>0</td>\n",
       "    </tr>\n",
       "    <tr>\n",
       "      <th>2</th>\n",
       "      <td>894</td>\n",
       "      <td>2</td>\n",
       "      <td>Myles, Mr. Thomas Francis</td>\n",
       "      <td>1</td>\n",
       "      <td>62.0</td>\n",
       "      <td>0</td>\n",
       "      <td>0</td>\n",
       "      <td>240276</td>\n",
       "      <td>9.6875</td>\n",
       "      <td>NaN</td>\n",
       "      <td>2</td>\n",
       "    </tr>\n",
       "    <tr>\n",
       "      <th>3</th>\n",
       "      <td>895</td>\n",
       "      <td>3</td>\n",
       "      <td>Wirz, Mr. Albert</td>\n",
       "      <td>1</td>\n",
       "      <td>27.0</td>\n",
       "      <td>0</td>\n",
       "      <td>0</td>\n",
       "      <td>315154</td>\n",
       "      <td>8.6625</td>\n",
       "      <td>NaN</td>\n",
       "      <td>0</td>\n",
       "    </tr>\n",
       "    <tr>\n",
       "      <th>4</th>\n",
       "      <td>896</td>\n",
       "      <td>3</td>\n",
       "      <td>Hirvonen, Mrs. Alexander (Helga E Lindqvist)</td>\n",
       "      <td>0</td>\n",
       "      <td>22.0</td>\n",
       "      <td>1</td>\n",
       "      <td>1</td>\n",
       "      <td>3101298</td>\n",
       "      <td>12.2875</td>\n",
       "      <td>NaN</td>\n",
       "      <td>0</td>\n",
       "    </tr>\n",
       "  </tbody>\n",
       "</table>\n",
       "</div>"
      ],
      "text/plain": [
       "   PassengerId  Pclass                                          Name  Sex  \\\n",
       "0          892       3                              Kelly, Mr. James    1   \n",
       "1          893       3              Wilkes, Mrs. James (Ellen Needs)    0   \n",
       "2          894       2                     Myles, Mr. Thomas Francis    1   \n",
       "3          895       3                              Wirz, Mr. Albert    1   \n",
       "4          896       3  Hirvonen, Mrs. Alexander (Helga E Lindqvist)    0   \n",
       "\n",
       "    Age  SibSp  Parch   Ticket     Fare Cabin  Embarked  \n",
       "0  34.5      0      0   330911   7.8292   NaN         2  \n",
       "1  47.0      1      0   363272   7.0000   NaN         0  \n",
       "2  62.0      0      0   240276   9.6875   NaN         2  \n",
       "3  27.0      0      0   315154   8.6625   NaN         0  \n",
       "4  22.0      1      1  3101298  12.2875   NaN         0  "
      ]
     },
     "execution_count": 126,
     "metadata": {},
     "output_type": "execute_result"
    }
   ],
   "source": [
    "test_df.head()"
   ]
  },
  {
   "cell_type": "code",
   "execution_count": null,
   "metadata": {},
   "outputs": [],
   "source": []
  }
 ],
 "metadata": {
  "kernelspec": {
   "display_name": "Python 3",
   "language": "python",
   "name": "python3"
  },
  "language_info": {
   "codemirror_mode": {
    "name": "ipython",
    "version": 3
   },
   "file_extension": ".py",
   "mimetype": "text/x-python",
   "name": "python",
   "nbconvert_exporter": "python",
   "pygments_lexer": "ipython3",
   "version": "3.7.4"
  }
 },
 "nbformat": 4,
 "nbformat_minor": 4
}
